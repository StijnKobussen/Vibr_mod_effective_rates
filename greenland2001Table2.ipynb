{
 "cells": [
  {
   "attachments": {},
   "cell_type": "markdown",
   "metadata": {},
   "source": [
    "## Reproduction script for Table 2 in Greenland's CRM validity paper"
   ]
  },
  {
   "cell_type": "code",
   "execution_count": 1,
   "metadata": {},
   "outputs": [],
   "source": [
    "import greenland_criterion as gc\n",
    "import numpy as np"
   ]
  },
  {
   "cell_type": "code",
   "execution_count": 2,
   "metadata": {},
   "outputs": [],
   "source": [
    "p = -1 \n",
    "q = -1 \n",
    "r = 0 "
   ]
  },
  {
   "attachments": {},
   "cell_type": "markdown",
   "metadata": {},
   "source": [
    "### Case setup"
   ]
  },
  {
   "cell_type": "code",
   "execution_count": 66,
   "metadata": {},
   "outputs": [],
   "source": [
    "x = [0.001 ,0.5,0.5]\n",
    "y = [0.001 ,0.5 ,0.001]\n",
    "z = [-0.001 , -0.5, -0.001]\n",
    "\n",
    "l1 = [-1,-1,-1]\n",
    "l2 = [-100,-100,-100]\n",
    "l3 = [-10000,-10000,-101]\n",
    "\n",
    "T = [np.array([[1,p,q],[x[i],1,r],[y[i],z[i],1]]) for i in range(3)]\n",
    "D = [np.diag([l1[i],l2[i],l3[i]]) for i in range(3)]\n",
    "M = [T[i]@D[i]@np.linalg.inv(T[i]) for i in range(3)]"
   ]
  },
  {
   "cell_type": "code",
   "execution_count": 67,
   "metadata": {},
   "outputs": [
    {
     "name": "stdout",
     "output_type": "stream",
     "text": [
      "[[array([0]), array([0, 1])], [], [array([0, 1])]]\n"
     ]
    }
   ],
   "source": [
    "crmA = [gc.CRMAnalyser(Mat) for Mat in M]\n",
    "indices = [a.getPotentialCRMs(tol=1e-3) for a in crmA]\n",
    "crm1=[a.generateCRM([0],exactMeff=True) for a in crmA]\n",
    "crm2=[a.generateCRM([0,1],exactMeff=True) for a in crmA]\n",
    "print(indices)"
   ]
  },
  {
   "cell_type": "code",
   "execution_count": 5,
   "metadata": {},
   "outputs": [
    {
     "name": "stdout",
     "output_type": "stream",
     "text": [
      "Case 1:\n",
      "Single P state:\n",
      "$\\delta T_P^{-1}$: [[0.001]\n",
      " [0.001]]\n",
      "$-\\Delta T_Q^{-1}$: [[1.001 1.   ]]\n",
      "error: 0.0014156263603098186\n",
      "Two P states:\n",
      "$\\delta T_P^{-1}$: [[ 1.00000000e-03 -8.37004077e-17]]\n",
      "$-\\Delta T_Q^{-1}$: [[1.00000000e+00]\n",
      " [1.00544259e-16]]\n",
      "error: 0.0024142118981618273\n",
      "Case 2:\n",
      "Single P state:\n",
      "$\\delta T_P^{-1}$: [[0.5]\n",
      " [0.5]]\n",
      "$-\\Delta T_Q^{-1}$: [[1.5 1. ]]\n",
      "error: 0.8660254037844388\n",
      "Two P states:\n",
      "$\\delta T_P^{-1}$: [[0.5 0. ]]\n",
      "$-\\Delta T_Q^{-1}$: [[ 1.0000000e+00]\n",
      " [-2.0035576e-16]]\n",
      "error: 1.0487547899806597\n",
      "Case 3:\n",
      "Single P state:\n",
      "$\\delta T_P^{-1}$: [[0.5  ]\n",
      " [0.001]]\n",
      "$-\\Delta T_Q^{-1}$: [[1.001 1.   ]]\n",
      "error: 0.6324554371654152\n",
      "Two P states:\n",
      "$\\delta T_P^{-1}$: [[1.00000000e-03 1.73472348e-17]]\n",
      "$-\\Delta T_Q^{-1}$: [[1.0000000e+00]\n",
      " [4.0467668e-14]]\n",
      "error: 0.0022649103081032523\n"
     ]
    }
   ],
   "source": [
    "for i in range(3):\n",
    "    print(\"Case \"+str(i+1)+\":\")\n",
    "    print(\"Single P state:\")\n",
    "    print(\"$\\delta T_P^{-1}$:\",crm1[i][0].dTpInv)\n",
    "    print(\"$-\\Delta T_Q^{-1}$:\",crm1[i][0].dTqInv)\n",
    "    print(\"error:\",crm1[i][1])\n",
    "    print(\"Two P states:\")\n",
    "    print(\"$\\delta T_P^{-1}$:\",crm2[i][0].dTpInv)\n",
    "    print(\"$-\\Delta T_Q^{-1}$:\",crm2[i][0].dTqInv)\n",
    "    print(\"error:\",crm2[i][1])\n",
    "    "
   ]
  },
  {
   "cell_type": "code",
   "execution_count": 54,
   "metadata": {},
   "outputs": [
    {
     "name": "stdout",
     "output_type": "stream",
     "text": [
      "[[-1.10779419e+01  9.89109801e+01  9.98892206e+03]\n",
      " [ 8.89309512e-02 -9.99109801e+01  8.89309512e-02]\n",
      " [ 9.98892206e+00  9.89109801e-02 -9.99001108e+03]]\n"
     ]
    }
   ],
   "source": [
    "M = M[0]\n",
    "print(M)"
   ]
  },
  {
   "cell_type": "code",
   "execution_count": 55,
   "metadata": {},
   "outputs": [
    {
     "data": {
      "text/plain": [
       "(array([-1.e+00, -1.e+02, -1.e+04]),\n",
       " array([[ 9.99999095e-01,  7.07106604e-01, -7.07106781e-01],\n",
       "        [ 8.99999186e-04, -7.07106604e-01,  1.28085438e-16],\n",
       "        [ 9.99999095e-04,  7.07106604e-04,  7.07106781e-01]]))"
      ]
     },
     "execution_count": 55,
     "metadata": {},
     "output_type": "execute_result"
    }
   ],
   "source": [
    "gc.diagM(M)\n"
   ]
  },
  {
   "cell_type": "code",
   "execution_count": 56,
   "metadata": {},
   "outputs": [],
   "source": [
    "crm3=gc.CRMAnalyser(M)"
   ]
  },
  {
   "cell_type": "code",
   "execution_count": null,
   "metadata": {},
   "outputs": [],
   "source": []
  },
  {
   "cell_type": "code",
   "execution_count": null,
   "metadata": {},
   "outputs": [],
   "source": []
  },
  {
   "cell_type": "code",
   "execution_count": 57,
   "metadata": {},
   "outputs": [],
   "source": [
    "ind = crm3.getPotentialCRMs(tol=1e-3)\n"
   ]
  },
  {
   "cell_type": "code",
   "execution_count": 58,
   "metadata": {},
   "outputs": [
    {
     "name": "stdout",
     "output_type": "stream",
     "text": [
      "[array([0]), array([0, 1])]\n"
     ]
    }
   ],
   "source": [
    "print(ind)"
   ]
  },
  {
   "cell_type": "code",
   "execution_count": 40,
   "metadata": {},
   "outputs": [
    {
     "data": {
      "text/plain": [
       "<matplotlib.image.AxesImage at 0x7f10349ccb80>"
      ]
     },
     "execution_count": 40,
     "metadata": {},
     "output_type": "execute_result"
    },
    {
     "data": {
      "image/png": "[encoded data removed]",
      "text/plain": [
       "<Figure size 640x480 with 1 Axes>"
      ]
     },
     "metadata": {},
     "output_type": "display_data"
    }
   ],
   "source": [
    "import matplotlib.pyplot as plt\n",
    "plt.spy(M)\n"
   ]
  },
  {
   "cell_type": "code",
   "execution_count": null,
   "metadata": {},
   "outputs": [],
   "source": []
  }
 ],
 "metadata": {
  "kernelspec": {
   "display_name": "Python 3.9.5 64-bit",
   "language": "python",
   "name": "python3"
  },
  "language_info": {
   "codemirror_mode": {
    "name": "ipython",
    "version": 3
   },
   "file_extension": ".py",
   "mimetype": "text/x-python",
   "name": "python",
   "nbconvert_exporter": "python",
   "pygments_lexer": "ipython3",
   "version": "3.10.6"
  },
  "orig_nbformat": 4,
  "vscode": {
   "interpreter": {
    "hash": "31f2aee4e71d21fbe5cf8b01ff0e069b9275f58929596ceb00d14d90e3e16cd6"
   }
  }
 },
 "nbformat": 4,
 "nbformat_minor": 2
}
